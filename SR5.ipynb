{
 "cells": [
  {
   "cell_type": "markdown",
   "id": "3a5422c3-b3d3-4e1b-8374-3bbe736b3459",
   "metadata": {},
   "source": [
    "Binary search Algorithm:\n",
    "Time-Complexity:\n",
    "Binary search algorithm divides the list into half and the number of elements reduced by half.This proccess continues up until the interval is reduced to one lement.\n",
    "Space-Complexity-Bianry search does require any space that grows with the iput size.It only required variables for the indices and the middle elements.While it is implemented recursively it uses big o notation due to the recursion call stack, but this is still quite effecient."
   ]
  }
 ],
 "metadata": {
  "kernelspec": {
   "display_name": "Python 3 (ipykernel)",
   "language": "python",
   "name": "python3"
  },
  "language_info": {
   "codemirror_mode": {
    "name": "ipython",
    "version": 3
   },
   "file_extension": ".py",
   "mimetype": "text/x-python",
   "name": "python",
   "nbconvert_exporter": "python",
   "pygments_lexer": "ipython3",
   "version": "3.12.2"
  }
 },
 "nbformat": 4,
 "nbformat_minor": 5
}
