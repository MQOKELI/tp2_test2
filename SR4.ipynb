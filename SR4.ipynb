{
 "cells": [
  {
   "cell_type": "code",
   "execution_count": 10,
   "id": "2bd91d22-b283-4bd7-99a5-d5dd30d909fe",
   "metadata": {},
   "outputs": [
    {
     "name": "stdout",
     "output_type": "stream",
     "text": [
      "Below is the sorted row \n",
      "0     1\n",
      "1     2\n",
      "2     3\n",
      "3     4\n",
      "4     5\n",
      "5     6\n",
      "6     7\n",
      "7     8\n",
      "8     9\n",
      "9    10\n",
      "Name: OBJECTID, dtype: int64\n"
     ]
    },
    {
     "name": "stderr",
     "output_type": "stream",
     "text": [
      "<>:5: SyntaxWarning: invalid escape sequence '\\D'\n",
      "<>:5: SyntaxWarning: invalid escape sequence '\\D'\n",
      "C:\\Users\\user\\AppData\\Local\\Temp\\ipykernel_6828\\3218785575.py:5: SyntaxWarning: invalid escape sequence '\\D'\n",
      "  dataset=pd.read_csv(\"C:\\\\Users\\\\user\\Downloads\\\\Informal_Settlement_Programme_-1898186875815614491.csv\")\n"
     ]
    }
   ],
   "source": [
    "#SR4.1\n",
    "import pandas as pd\n",
    "\n",
    " #READ CSV file\n",
    "dataset=pd.read_csv(\"C:\\\\Users\\\\user\\Downloads\\\\Informal_Settlement_Programme_-1898186875815614491.csv\")\n",
    "\n",
    "#Extract a column to sort the first 10 elements o it\n",
    "hold_sorted_row=dataset['OBJECTID'].head(10)\n",
    "\n",
    "    #usinga bubble sort to sort it \n",
    "for i in range(len(hold_sorted_row)-1,0,-1):\n",
    "    for j in range(i):\n",
    "        if hold_sorted_row[j]>hold_sorted_row[j+1]:\n",
    "            temp=hold_sorted_row[j]\n",
    "            hold_sorted_row[j]=hold_sorted_row[j+1]\n",
    "            hold_sorted_row[j+1]=temp\n",
    "\n",
    "\n",
    "print(\"Below is the sorted row \")\n",
    "print(str(hold_sorted_row))\n",
    "\n",
    "\n",
    "        \n",
    "    \n",
    "       \n",
    "    \n",
    "\n",
    "      \n",
    "\n"
   ]
  },
  {
   "cell_type": "markdown",
   "id": "1d6e945f-a87a-47d8-ae5a-8ba5bb720cf7",
   "metadata": {},
   "source": [
    "#SR4.2\n",
    "Binary search is faster in terms of perfomanace because it divides the list or the columns into two halfs and searching the target element from the middle once it is found that the middle is not the item we are searching for and proceed to the left in the firts half up until it find it unless it does not find it if such situation occurs the binary search start from the middle again up to the last element or find it and displays an appropriate message in such situation and the moment it divides the elements it's easy for it to search in the first half and come up with the solution and continue if the number is not found and it's efficient for a large data. While Linear search it's slowly because it start form the index zero and go up until find the element that it is looking for so for it's consuming to go each element and check it if it does not the same as the element we are searching for element up until if finds it and if it finds it, it stops immediatlely  "
   ]
  },
  {
   "cell_type": "code",
   "execution_count": 15,
   "id": "37ebef0d-d9bf-4f99-9320-2cdbe8d8875c",
   "metadata": {},
   "outputs": [
    {
     "name": "stdout",
     "output_type": "stream",
     "text": [
      "16 Which is the target value in the list is found at index  15\n",
      "The number found at index 10\n"
     ]
    }
   ],
   "source": [
    "#SR4.2.2 Binary search algorithm\n",
    "\n",
    "def Search_Item(my_list,target_value):\n",
    "    start_index=0\n",
    "    end_index=len(my_list)-1\n",
    "    while start_index<=end_index:\n",
    "        median=start_index+(end_index-start_index)//2\n",
    "        median_value=my_list[median]\n",
    "        if median_value==target_value:\n",
    "            return median\n",
    "        elif target_value<median_value:\n",
    "            end_index=median-1\n",
    "        else:\n",
    "            start_index=median+1\n",
    "    return none\n",
    "\n",
    "my_list=dataset[\"OBJECTID\"]\n",
    "#my_list.sort()\n",
    "target_value=16\n",
    "result=Search_Item(my_list,target_value)\n",
    "print(target_value, \"Which is the target value in the list is found at index \",result)\n",
    "\n",
    "#Linear Search Algorithm\n",
    "def LinearSearch(my_list, n):\n",
    "    for i in range(len(my_list)):\n",
    "        if my_list[i] == n:\n",
    "            return i\n",
    "    return -1  #  if the number is not found it will return -1\n",
    "\n",
    "my_list = dataset['OBJECTID']\n",
    "n = 11\n",
    "\n",
    "results = LinearSearch(my_list, n)\n",
    "\n",
    "if results != -1:\n",
    "    print(\"The number found at index\", results)\n",
    "else:\n",
    "    print(\"The number is not found\")\n",
    "\n",
    "\n",
    "\n",
    "\n",
    "\n",
    "\n"
   ]
  },
  {
   "cell_type": "code",
   "execution_count": null,
   "id": "78574d0a-fe0d-4ab0-9534-93a99479d135",
   "metadata": {},
   "outputs": [],
   "source": []
  }
 ],
 "metadata": {
  "kernelspec": {
   "display_name": "Python 3 (ipykernel)",
   "language": "python",
   "name": "python3"
  },
  "language_info": {
   "codemirror_mode": {
    "name": "ipython",
    "version": 3
   },
   "file_extension": ".py",
   "mimetype": "text/x-python",
   "name": "python",
   "nbconvert_exporter": "python",
   "pygments_lexer": "ipython3",
   "version": "3.12.2"
  }
 },
 "nbformat": 4,
 "nbformat_minor": 5
}
