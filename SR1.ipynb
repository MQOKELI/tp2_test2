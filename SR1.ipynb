{
 "cells": [
  {
   "cell_type": "markdown",
   "id": "fc6a9e21-2eb0-480e-92d7-2a699b5c9945",
   "metadata": {},
   "source": [
    "\n",
    " Dataset Source: This dataset is taken from Humanitarian Data Exchange,specifically form this [Link text](https://data.humdata.org/). This file is also available on this siteba sa csv file.\n",
    "\n",
    " Justification for Suitability: This dataset is suitable to analyze informal settlements due to several factors:\n",
    "\n",
    " 1)Data Completeness-The dataset covers detailed information on various human settlements such as Wards, including the locations of those informal settlements and the type of infrasture available on that infomrla settlement.This detailed information about informal settlements is effective in terms of analysis in those mentioned regions.\n",
    "\n",
    " 2)Relevance-THe dataset highlights crucial resources available in possession of villagers in the settlement and outline the importance of that service that the community needs it too much but they did not have access to it.\n",
    " 3)Credibility of Source-THis dataset is coming from local government records, which ensure that the information contained in the dataset is trustworthy and accurate for analysing the needs and the current situations of the areas that have been mentioned in the dataset. \n",
    "\n",
    " The following colummns  that justify the relevancy of this datasets are as follows and justify according to the explanation given next to each column or under each column:\n",
    "\n",
    " 1)NAme of the settlement which identifies a particular location of each informal settlements to easily pipoint specific locations for detailed analysis   .\n",
    " 2)STREETNAME-provides the names of streets within the settlements, which  need  more refinement in  geographic identification and infrastructure planning.\n",
    " \n",
    "\n",
    " "
   ]
  }
 ],
 "metadata": {
  "kernelspec": {
   "display_name": "Python 3 (ipykernel)",
   "language": "python",
   "name": "python3"
  },
  "language_info": {
   "codemirror_mode": {
    "name": "ipython",
    "version": 3
   },
   "file_extension": ".py",
   "mimetype": "text/x-python",
   "name": "python",
   "nbconvert_exporter": "python",
   "pygments_lexer": "ipython3",
   "version": "3.12.2"
  }
 },
 "nbformat": 4,
 "nbformat_minor": 5
}
